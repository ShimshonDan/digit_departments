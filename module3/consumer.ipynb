{
 "cells": [
  {
   "cell_type": "code",
   "execution_count": 1,
   "metadata": {},
   "outputs": [],
   "source": [
    "import os\n",
    "import json\n",
    "\n",
    "from confluent_kafka import Consumer\n",
    "import pandas as pd"
   ]
  },
  {
   "cell_type": "code",
   "execution_count": 2,
   "metadata": {},
   "outputs": [],
   "source": [
    "topic = \"module3\"\n",
    "\n",
    "config = {\n",
    "    \"bootstrap.servers\": \"localhost:9092\",\n",
    "    \"group.id\": \"module3_consumer\",\n",
    "    \"auto.offset.reset\": \"earliest\"\n",
    "}\n",
    "\n",
    "consumer = Consumer(config)\n",
    "consumer.subscribe([topic])"
   ]
  },
  {
   "cell_type": "code",
   "execution_count": 3,
   "metadata": {},
   "outputs": [],
   "source": [
    "columns = [\"exchange\", \"volume_1\", \"volume_2\", \"volume_3\", \"volume_4\", \"volume_5\", \"volume_6\"]\n",
    "df_result = pd.DataFrame(columns=columns)\n",
    "\n",
    "def process_message(message):\n",
    "    global df_result\n",
    "\n",
    "    data = json.loads(message.value().decode(\"utf-8\"))\n",
    "\n",
    "    if data.get(\"exit\", False):\n",
    "        return True\n",
    "\n",
    "    df_data = pd.DataFrame(data[\"volume_day\"], columns=[\"timestap\", \"volume_day\"])    \n",
    "    df_data['timestap'] = pd.to_datetime(df_data['timestap'], unit='ms')\n",
    "    df_data['volume_day'] = df_data['volume_day'].astype(float)\n",
    "    df_data.set_index('timestap', inplace=True)\n",
    "\n",
    "    df_aggregated = df_data.resample('4h').mean().reset_index()\n",
    "    values = df_aggregated[\"volume_day\"].to_numpy()[:6].reshape(1, 6)\n",
    "    \n",
    "    row_data = [data[\"exchange\"]] + values.tolist()[0]\n",
    "    new_row = pd.DataFrame([row_data], \n",
    "                           columns=columns)\n",
    "\n",
    "    if df_result.empty:\n",
    "        df_result = new_row\n",
    "    else:\n",
    "        df_result = pd.concat([df_result, new_row], ignore_index=True)\n",
    "    \n",
    "    if df_result.shape[0] == 5:\n",
    "        if os.path.exists(\"exchange.csv\"):\n",
    "            df_result.to_csv(\n",
    "                                f\"exchange.csv\", mode='a',\n",
    "                                index=False, header=False, \n",
    "                                columns=columns\n",
    "                            )\n",
    "        else:\n",
    "            df_result.to_csv(\n",
    "                                f\"exchange.csv\", \n",
    "                                index=False, \n",
    "                                columns=columns\n",
    "                            )\n",
    "        df_result=pd.DataFrame(columns=df_result.columns)\n",
    "    return False"
   ]
  },
  {
   "cell_type": "code",
   "execution_count": 4,
   "metadata": {},
   "outputs": [
    {
     "name": "stdout",
     "output_type": "stream",
     "text": [
      "Exiting consumer\n"
     ]
    }
   ],
   "source": [
    "while True:\n",
    "    message = consumer.poll(1.0)\n",
    "    if message is None:\n",
    "        continue\n",
    "\n",
    "    if message.error():\n",
    "        print(f\"Consumer error: {message.error()}\")\n",
    "        continue\n",
    "\n",
    "    if process_message(message):\n",
    "        print(\"Exiting consumer\")\n",
    "        break\n",
    "\n",
    "if not df_result.empty:\n",
    "    df_result.to_csv(\n",
    "                    f\"exchange.csv\", mode='a',\n",
    "                    index=False, header=False, \n",
    "                    columns=columns\n",
    "                )\n",
    "\n",
    "consumer.close()"
   ]
  }
 ],
 "metadata": {
  "kernelspec": {
   "display_name": "venv",
   "language": "python",
   "name": "python3"
  },
  "language_info": {
   "codemirror_mode": {
    "name": "ipython",
    "version": 3
   },
   "file_extension": ".py",
   "mimetype": "text/x-python",
   "name": "python",
   "nbconvert_exporter": "python",
   "pygments_lexer": "ipython3",
   "version": "3.12.3"
  }
 },
 "nbformat": 4,
 "nbformat_minor": 2
}
