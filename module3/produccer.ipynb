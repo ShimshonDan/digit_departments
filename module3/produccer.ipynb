{
 "cells": [
  {
   "cell_type": "code",
   "execution_count": 1,
   "metadata": {},
   "outputs": [],
   "source": [
    "import json\n",
    "import socket\n",
    "import time \n",
    "\n",
    "from dotenv import dotenv_values\n",
    "import requests as  rq\n",
    "\n",
    "from confluent_kafka import Producer"
   ]
  },
  {
   "cell_type": "code",
   "execution_count": 2,
   "metadata": {},
   "outputs": [],
   "source": [
    "key = dotenv_values(\"./.env\")"
   ]
  },
  {
   "cell_type": "code",
   "execution_count": 3,
   "metadata": {},
   "outputs": [],
   "source": [
    "url_id_excange = \"https://api.coingecko.com/api/v3/exchanges\"\n",
    "\n",
    "headers = {\n",
    "    \"accept\": \"application/json\",\n",
    "    \"x-cg-demo-api-key\": key[\"API_KEY\"]\n",
    "}\n",
    "\n",
    "response_id = rq.get(url_id_excange, headers=headers)\n",
    "\n",
    "if response_id.status_code == 200:\n",
    "\n",
    "    response_id = response_id.json()\n",
    "\n",
    "    id_exchange: dict = {}\n",
    "    for json_ in response_id:\n",
    "        id_exchange[json_.get(\"id\")] = json_.get(\"name\")\n",
    "else:\n",
    "    print(f\"Status code: {response_id.status_code}\")"
   ]
  },
  {
   "cell_type": "code",
   "execution_count": 4,
   "metadata": {},
   "outputs": [],
   "source": [
    "def get_volume_day(excange_id: str) -> dict | None:\n",
    "    url = f\"https://api.coingecko.com/api/v3/exchanges/{excange_id}/volume_chart?days=1\"\n",
    "    \n",
    "    response = rq.get(url, headers=headers)\n",
    "    if response.status_code == 200:\n",
    "        return response.json()\n",
    "    else:\n",
    "        print(f\"excange_id ({excange_id}) - Status code: {response.status_code}\")\n",
    "        return\n",
    "\n",
    "def generator_exchange_volume():\n",
    "    for exchange in id_exchange:\n",
    "        volume_day = get_volume_day(exchange)\n",
    "        \n",
    "        if volume_day is None:\n",
    "            volume_day = []\n",
    "            \n",
    "        data = {\"exchange\": id_exchange.get(exchange), \"volume_day\": volume_day}\n",
    "        yield str.encode(json.dumps(data))"
   ]
  },
  {
   "cell_type": "code",
   "execution_count": 5,
   "metadata": {},
   "outputs": [],
   "source": [
    "topic = \"module3\"\n",
    "\n",
    "config = {\n",
    "    \"bootstrap.servers\": \"localhost:9092\",\n",
    "    \"client.id\": socket.gethostname()\n",
    "}\n",
    "\n",
    "producer = Producer(config)"
   ]
  },
  {
   "cell_type": "code",
   "execution_count": 6,
   "metadata": {},
   "outputs": [
    {
     "data": {
      "text/plain": [
       "0"
      ]
     },
     "execution_count": 6,
     "metadata": {},
     "output_type": "execute_result"
    }
   ],
   "source": [
    "for data in generator_exchange_volume():\n",
    "    producer.produce(topic, value=data)\n",
    "    time.sleep(2)\n",
    "    producer.flush()\n",
    "\n",
    "exit_message = str.encode(json.dumps({\"exit\": True}))\n",
    "producer.produce(topic, value=exit_message)\n",
    "producer.flush()"
   ]
  }
 ],
 "metadata": {
  "kernelspec": {
   "display_name": "venv",
   "language": "python",
   "name": "python3"
  },
  "language_info": {
   "codemirror_mode": {
    "name": "ipython",
    "version": 3
   },
   "file_extension": ".py",
   "mimetype": "text/x-python",
   "name": "python",
   "nbconvert_exporter": "python",
   "pygments_lexer": "ipython3",
   "version": "3.12.3"
  }
 },
 "nbformat": 4,
 "nbformat_minor": 2
}
