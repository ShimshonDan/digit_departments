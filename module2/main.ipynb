{
 "cells": [
  {
   "cell_type": "code",
   "execution_count": 2,
   "metadata": {},
   "outputs": [],
   "source": [
    "import json\n",
    "\n",
    "import requests\n",
    "import pymongo"
   ]
  },
  {
   "cell_type": "code",
   "execution_count": 4,
   "metadata": {},
   "outputs": [
    {
     "name": "stdout",
     "output_type": "stream",
     "text": [
      "{'timestamp': 1741627654, 'message': 'success', 'iss_position': {'latitude': '-11.2054', 'longitude': '-4.8637'}}\n"
     ]
    }
   ],
   "source": [
    "official_url = \"http://api.open-notify.org/iss-now.json\"\n",
    "\n",
    "data_mks = requests.get(official_url)\n",
    "if data_mks.status_code != 200:\n",
    "    print(f\"Status code after requests: {data_mks.status_code}\")\n",
    "\n",
    "else:\n",
    "    data_mks = json.loads(data_mks.text)\n",
    "    print(data_mks)"
   ]
  },
  {
   "cell_type": "code",
   "execution_count": null,
   "metadata": {},
   "outputs": [],
   "source": [
    "client = pymongo.MongoClient(\"mongodb://localhost:27017/\")\n",
    "\n",
    "db = client[\"test\"]\n",
    "col = db[\"data_mks\"]"
   ]
  },
  {
   "cell_type": "code",
   "execution_count": null,
   "metadata": {},
   "outputs": [],
   "source": [
    "col.insert_one(data_mks)"
   ]
  },
  {
   "cell_type": "code",
   "execution_count": 22,
   "metadata": {},
   "outputs": [
    {
     "name": "stdout",
     "output_type": "stream",
     "text": [
      "{'_id': ObjectId('67cf14257a72275ecd6e7b11'), 'timestamp': 1741624222, 'message': 'success', 'iss_position': {'latitude': '40.4519', 'longitude': '156.2169'}}\n",
      "{'_id': ObjectId('67cf15af7a72275ecd6e7b16'), 'timestamp': 1741624751, 'message': 'success', 'iss_position': {'latitude': '16.8292', 'longitude': '-177.4037'}}\n",
      "{'_id': ObjectId('67cf15e77a72275ecd6e7b18'), 'timestamp': 1741624805, 'message': 'success', 'iss_position': {'latitude': '14.1572', 'longitude': '-175.2960'}}\n",
      "{'_id': ObjectId('67cf15eb7a72275ecd6e7b1a'), 'timestamp': 1741624811, 'message': 'success', 'iss_position': {'latitude': '13.8836', 'longitude': '-175.0845'}}\n",
      "{'_id': ObjectId('67cf15fd7a72275ecd6e7b1c'), 'timestamp': 1741624829, 'message': 'success', 'iss_position': {'latitude': '12.9872', 'longitude': '-174.3965'}}\n",
      "{'_id': ObjectId('67cf1f1d7a72275ecd6e7b1e'), 'timestamp': 1741627163, 'message': 'success', 'iss_position': {'latitude': '-34.3581', 'longitude': '-26.5447'}}\n",
      "{'_id': ObjectId('67cf1f977a72275ecd6e7b21'), 'timestamp': 1741627287, 'message': 'success', 'iss_position': {'latitude': '-28.9195', 'longitude': '-20.2320'}}\n",
      "{'_id': ObjectId('67cf21071e7acabd8eb67354'), 'timestamp': 1741627654, 'message': 'success', 'iss_position': {'latitude': '-11.2054', 'longitude': '-4.8637'}}\n"
     ]
    }
   ],
   "source": [
    "cursor = db[\"data_mks\"].find()\n",
    "for document in cursor:\n",
    "    print(document) "
   ]
  }
 ],
 "metadata": {
  "kernelspec": {
   "display_name": "venv",
   "language": "python",
   "name": "python3"
  },
  "language_info": {
   "codemirror_mode": {
    "name": "ipython",
    "version": 3
   },
   "file_extension": ".py",
   "mimetype": "text/x-python",
   "name": "python",
   "nbconvert_exporter": "python",
   "pygments_lexer": "ipython3",
   "version": "3.12.9"
  }
 },
 "nbformat": 4,
 "nbformat_minor": 2
}
